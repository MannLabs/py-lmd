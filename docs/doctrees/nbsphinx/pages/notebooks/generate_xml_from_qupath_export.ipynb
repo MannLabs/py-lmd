{
 "cells": [
  {
   "attachments": {},
   "cell_type": "markdown",
   "metadata": {},
   "source": [
    "# Generate cutting XML from exported results from QUPath\n",
    "\n",
    "The stitched images were loaded into Qupath and specific regions annotaed by hand. calibration points were also selected and labelled with `calib1`, `calib2` and `calib3`.\n",
    "\n",
    "![QuPath manual shape annotation](./test_data/cellculture_example/qupath_annotation.png \"Qupath Manual shape annotation\")\n",
    "\n",
    "The annotated shapes were then exported to geojson file.\n",
    "\n",
    "![Geojson export](./test_data/cellculture_example/qupath_export_1.png \"GEOjson export\")\n",
    "![Geojson export](./test_data/cellculture_example/geojson_export_2.png \"GEOjson export\")\n"
   ]
  },
  {
   "attachments": {},
   "cell_type": "markdown",
   "metadata": {},
   "source": [
    "## Import libraries and define helper functions"
   ]
  },
  {
   "cell_type": "code",
   "execution_count": 1,
   "metadata": {},
   "outputs": [],
   "source": [
    "# import required libraries\n",
    "import json\n",
    "import geojson \n",
    "import geopandas\n",
    "import pandas as pd\n",
    "import numpy as np\n",
    "\n",
    "from lmd.lib import Collection, Shape"
   ]
  },
  {
   "cell_type": "code",
   "execution_count": 2,
   "metadata": {},
   "outputs": [],
   "source": [
    "#define helper functions\n",
    "\n",
    "def get_calib_points(list_of_calibpoint_names, df):\n",
    "    #create shape list\n",
    "    pointlist = []\n",
    "    for point_name in list_of_calibpoint_names:\n",
    "        pointlist.append(df.loc[df['name'] == point_name, 'geometry'].values[0])\n",
    "    \n",
    "    #create coordinate list\n",
    "    listarray = []\n",
    "    for point in pointlist:\n",
    "        listarray.append([point.x, point.y])\n",
    "    nparray = np.array(listarray)\n",
    "    \n",
    "    return(nparray)\n",
    "\n",
    "#returns dataframe with only polygon objects\n",
    "def remove_non_polygons(df):\n",
    "    import shapely\n",
    "    \n",
    "    df_filtered = df.loc[[type(x) == shapely.geometry.polygon.Polygon for x in df.geometry]]\n",
    "    return(df_filtered)\n",
    "\n",
    "#creates new column for coordenates in a list of list format\n",
    "#assumes only polygons in dataframe\n",
    "def replace_coords(df):\n",
    "    df['coordinates_shape_exterior'] = np.nan\n",
    "    df['coordinates_shape_exterior'] = df['coordinates_shape_exterior'].astype('object')\n",
    "    \n",
    "    for i in df.index:\n",
    "        #get geometry object for row i\n",
    "        geom = df.at[i, 'geometry']\n",
    "        #list the coordinate points as tuples\n",
    "        tmp = list(geom.exterior.coords)\n",
    "        #transform list of tuples to list of lists and save to dataframe\n",
    "        df.at[i,'coordinates_shape_exterior'] = [list(i) for i in tmp]\n",
    "    \n",
    "    return(df)\n"
   ]
  },
  {
   "attachments": {},
   "cell_type": "markdown",
   "metadata": {},
   "source": [
    "## Import GEOjson regions\n",
    "\n",
    "The geojson dataset is loaded into a dataframe with the following structure:\n",
    "\n",
    "id                     objectType                          classification                              name                       geometry\n",
    "unique shape id        type of shape (e.g. annotation)     all annotation information from qupath      shape name if given        contains information relevant for shape\n",
    "\n",
    "The geojson should besides containing individual segemnted shapes contain 3 points annotated as calib1, calib2, calib3 that will be used as calibration points for generating the XML"
   ]
  },
  {
   "cell_type": "code",
   "execution_count": 3,
   "metadata": {},
   "outputs": [
    {
     "data": {
      "text/html": [
       "<div>\n",
       "<style scoped>\n",
       "    .dataframe tbody tr th:only-of-type {\n",
       "        vertical-align: middle;\n",
       "    }\n",
       "\n",
       "    .dataframe tbody tr th {\n",
       "        vertical-align: top;\n",
       "    }\n",
       "\n",
       "    .dataframe thead th {\n",
       "        text-align: right;\n",
       "    }\n",
       "</style>\n",
       "<table border=\"1\" class=\"dataframe\">\n",
       "  <thead>\n",
       "    <tr style=\"text-align: right;\">\n",
       "      <th></th>\n",
       "      <th>id</th>\n",
       "      <th>objectType</th>\n",
       "      <th>name</th>\n",
       "      <th>geometry</th>\n",
       "    </tr>\n",
       "  </thead>\n",
       "  <tbody>\n",
       "    <tr>\n",
       "      <th>0</th>\n",
       "      <td>9287277d-e46f-47e9-aa3f-c540b3318b5e</td>\n",
       "      <td>annotation</td>\n",
       "      <td>region2</td>\n",
       "      <td>POLYGON ((507.00000 1524.00000, 506.60000 1539...</td>\n",
       "    </tr>\n",
       "    <tr>\n",
       "      <th>1</th>\n",
       "      <td>ab63cfd3-17d0-4dd3-b8e6-95172dda64de</td>\n",
       "      <td>annotation</td>\n",
       "      <td>Region1</td>\n",
       "      <td>POLYGON ((1789.00000 990.00000, 1730.00000 115...</td>\n",
       "    </tr>\n",
       "    <tr>\n",
       "      <th>2</th>\n",
       "      <td>b60d2cf7-963e-42ae-8a2a-69ff289d29db</td>\n",
       "      <td>annotation</td>\n",
       "      <td>calib1</td>\n",
       "      <td>POINT (343.24000 368.53000)</td>\n",
       "    </tr>\n",
       "    <tr>\n",
       "      <th>3</th>\n",
       "      <td>56bdd076-ac9a-4950-97f3-b8c2268ee090</td>\n",
       "      <td>annotation</td>\n",
       "      <td>calib3</td>\n",
       "      <td>POINT (361.78000 2301.51000)</td>\n",
       "    </tr>\n",
       "    <tr>\n",
       "      <th>4</th>\n",
       "      <td>03d9bb6e-16b1-4cd9-9181-86da90fb98bf</td>\n",
       "      <td>annotation</td>\n",
       "      <td>calib2</td>\n",
       "      <td>POINT (1353.77000 1165.83000)</td>\n",
       "    </tr>\n",
       "  </tbody>\n",
       "</table>\n",
       "</div>"
      ],
      "text/plain": [
       "                                     id  objectType     name  \\\n",
       "0  9287277d-e46f-47e9-aa3f-c540b3318b5e  annotation  region2   \n",
       "1  ab63cfd3-17d0-4dd3-b8e6-95172dda64de  annotation  Region1   \n",
       "2  b60d2cf7-963e-42ae-8a2a-69ff289d29db  annotation   calib1   \n",
       "3  56bdd076-ac9a-4950-97f3-b8c2268ee090  annotation   calib3   \n",
       "4  03d9bb6e-16b1-4cd9-9181-86da90fb98bf  annotation   calib2   \n",
       "\n",
       "                                            geometry  \n",
       "0  POLYGON ((507.00000 1524.00000, 506.60000 1539...  \n",
       "1  POLYGON ((1789.00000 990.00000, 1730.00000 115...  \n",
       "2                        POINT (343.24000 368.53000)  \n",
       "3                       POINT (361.78000 2301.51000)  \n",
       "4                      POINT (1353.77000 1165.83000)  "
      ]
     },
     "execution_count": 3,
     "metadata": {},
     "output_type": "execute_result"
    }
   ],
   "source": [
    "df = geopandas.read_file(\"test_data/cellculture_example/annotated_regions_Qupath.geojson\")\n",
    "df"
   ]
  },
  {
   "attachments": {},
   "cell_type": "markdown",
   "metadata": {},
   "source": [
    "## Calibration points"
   ]
  },
  {
   "cell_type": "code",
   "execution_count": 4,
   "metadata": {},
   "outputs": [
    {
     "name": "stdout",
     "output_type": "stream",
     "text": [
      "[[ 343.24  368.53]\n",
      " [1353.77 1165.83]\n",
      " [ 361.78 2301.51]]\n"
     ]
    }
   ],
   "source": [
    "#assumes user will always label their calibration points like this \n",
    "caliblist = get_calib_points(['calib1','calib2','calib3'],df)\n",
    "print(caliblist)"
   ]
  },
  {
   "attachments": {},
   "cell_type": "markdown",
   "metadata": {},
   "source": [
    "## Clean up Dataframe\n",
    "\n",
    "Remove non-polygon shapes, extract polygon coordinates, and parse annotation for easier use"
   ]
  },
  {
   "cell_type": "code",
   "execution_count": 5,
   "metadata": {},
   "outputs": [
    {
     "name": "stderr",
     "output_type": "stream",
     "text": [
      "/Users/sophia/mambaforge/envs/SPARCSpy/lib/python3.9/site-packages/geopandas/geodataframe.py:1538: SettingWithCopyWarning: \n",
      "A value is trying to be set on a copy of a slice from a DataFrame.\n",
      "Try using .loc[row_indexer,col_indexer] = value instead\n",
      "\n",
      "See the caveats in the documentation: https://pandas.pydata.org/pandas-docs/stable/user_guide/indexing.html#returning-a-view-versus-a-copy\n",
      "  super().__setitem__(key, value)\n",
      "/Users/sophia/mambaforge/envs/SPARCSpy/lib/python3.9/site-packages/geopandas/geodataframe.py:1538: SettingWithCopyWarning: \n",
      "A value is trying to be set on a copy of a slice from a DataFrame.\n",
      "Try using .loc[row_indexer,col_indexer] = value instead\n",
      "\n",
      "See the caveats in the documentation: https://pandas.pydata.org/pandas-docs/stable/user_guide/indexing.html#returning-a-view-versus-a-copy\n",
      "  super().__setitem__(key, value)\n"
     ]
    },
    {
     "data": {
      "text/html": [
       "<div>\n",
       "<style scoped>\n",
       "    .dataframe tbody tr th:only-of-type {\n",
       "        vertical-align: middle;\n",
       "    }\n",
       "\n",
       "    .dataframe tbody tr th {\n",
       "        vertical-align: top;\n",
       "    }\n",
       "\n",
       "    .dataframe thead th {\n",
       "        text-align: right;\n",
       "    }\n",
       "</style>\n",
       "<table border=\"1\" class=\"dataframe\">\n",
       "  <thead>\n",
       "    <tr style=\"text-align: right;\">\n",
       "      <th></th>\n",
       "      <th>id</th>\n",
       "      <th>objectType</th>\n",
       "      <th>name</th>\n",
       "      <th>geometry</th>\n",
       "      <th>coordinates_shape_exterior</th>\n",
       "    </tr>\n",
       "  </thead>\n",
       "  <tbody>\n",
       "    <tr>\n",
       "      <th>0</th>\n",
       "      <td>9287277d-e46f-47e9-aa3f-c540b3318b5e</td>\n",
       "      <td>annotation</td>\n",
       "      <td>region2</td>\n",
       "      <td>POLYGON ((507.00000 1524.00000, 506.60000 1539...</td>\n",
       "      <td>[[507.0, 1524.0], [506.6, 1539.01], [505.39, 1...</td>\n",
       "    </tr>\n",
       "    <tr>\n",
       "      <th>1</th>\n",
       "      <td>ab63cfd3-17d0-4dd3-b8e6-95172dda64de</td>\n",
       "      <td>annotation</td>\n",
       "      <td>Region1</td>\n",
       "      <td>POLYGON ((1789.00000 990.00000, 1730.00000 115...</td>\n",
       "      <td>[[1789.0, 990.0], [1730.0, 1153.0], [1744.0, 1...</td>\n",
       "    </tr>\n",
       "  </tbody>\n",
       "</table>\n",
       "</div>"
      ],
      "text/plain": [
       "                                     id  objectType     name  \\\n",
       "0  9287277d-e46f-47e9-aa3f-c540b3318b5e  annotation  region2   \n",
       "1  ab63cfd3-17d0-4dd3-b8e6-95172dda64de  annotation  Region1   \n",
       "\n",
       "                                            geometry  \\\n",
       "0  POLYGON ((507.00000 1524.00000, 506.60000 1539...   \n",
       "1  POLYGON ((1789.00000 990.00000, 1730.00000 115...   \n",
       "\n",
       "                          coordinates_shape_exterior  \n",
       "0  [[507.0, 1524.0], [506.6, 1539.01], [505.39, 1...  \n",
       "1  [[1789.0, 990.0], [1730.0, 1153.0], [1744.0, 1...  "
      ]
     },
     "execution_count": 5,
     "metadata": {},
     "output_type": "execute_result"
    }
   ],
   "source": [
    "df_poly = remove_non_polygons(df)\n",
    "df_poly = replace_coords(df_poly)\n",
    "df_poly"
   ]
  },
  {
   "attachments": {},
   "cell_type": "markdown",
   "metadata": {},
   "source": [
    "## Generate shape collection"
   ]
  },
  {
   "cell_type": "code",
   "execution_count": 10,
   "metadata": {},
   "outputs": [],
   "source": [
    "shape_collection = Collection(calibration_points = caliblist)\n",
    "shape_collection.orientation_transform = np.array([[1,0 ], [0,-1]])"
   ]
  },
  {
   "cell_type": "code",
   "execution_count": 11,
   "metadata": {},
   "outputs": [],
   "source": [
    "for i in df_poly.index:\n",
    "    shape_collection.new_shape(df_poly.loc[i,'coordinates_shape_exterior'], well = \"well1\") # can define a well if so wished otherwise leave out"
   ]
  },
  {
   "cell_type": "code",
   "execution_count": 12,
   "metadata": {},
   "outputs": [
    {
     "name": "stdout",
     "output_type": "stream",
     "text": [
      "===== Collection Stats =====\n",
      "Number of shapes: 2\n",
      "Number of vertices: 117\n",
      "============================\n",
      "Mean vertices: 58\n",
      "Min vertices: 16\n",
      "5% percentile vertices: 20\n",
      "Median vertices: 58\n",
      "95% percentile vertices: 97\n",
      "Max vertices: 101\n",
      "None\n"
     ]
    },
    {
     "data": {
      "image/png": "[encoded data removed]",
      "text/plain": [
       "<Figure size 500x500 with 1 Axes>"
      ]
     },
     "metadata": {},
     "output_type": "display_data"
    }
   ],
   "source": [
    "#print some statistics on the shapes included in the collection and visualize results\n",
    "print(shape_collection.stats())\n",
    "shape_collection.plot(calibration = True)"
   ]
  },
  {
   "attachments": {},
   "cell_type": "markdown",
   "metadata": {},
   "source": [
    "## write to XML"
   ]
  },
  {
   "cell_type": "code",
   "execution_count": 13,
   "metadata": {},
   "outputs": [
    {
     "name": "stdout",
     "output_type": "stream",
     "text": [
      "[ 34324. -36853.]\n",
      "[ 135377. -116583.]\n",
      "[  36178. -230151.]\n"
     ]
    }
   ],
   "source": [
    "shape_collection.save(\"./test_data/cellculture_example/shapes_2.xml\")"
   ]
  }
 ],
 "metadata": {
  "kernelspec": {
   "display_name": "SPARCSpy",
   "language": "python",
   "name": "python3"
  },
  "language_info": {
   "codemirror_mode": {
    "name": "ipython",
    "version": 3
   },
   "file_extension": ".py",
   "mimetype": "text/x-python",
   "name": "python",
   "nbconvert_exporter": "python",
   "pygments_lexer": "ipython3",
   "version": "3.9.16"
  }
 },
 "nbformat": 4,
 "nbformat_minor": 2
}
