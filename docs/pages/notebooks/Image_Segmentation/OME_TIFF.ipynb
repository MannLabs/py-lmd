{
 "cells": [
  {
   "cell_type": "code",
   "execution_count": null,
   "metadata": {},
   "outputs": [],
   "source": [
    "\n",
    "print(segmentation.shape)"
   ]
  },
  {
   "cell_type": "code",
   "execution_count": null,
   "metadata": {},
   "outputs": [],
   "source": [
    "import numpy as np\n",
    "from PIL import Image\n",
    "from lmd.lib import SegmentationLoader\n",
    "\n",
    "import tifffile\n",
    "im = tifffile.imread('/Users/georgwallmann/Documents/testdaten/cell.ome.tif')\n",
    "segmentation = np.array(im).astype(np.uint32)\n",
    "\n",
    "all_classes = np.unique(segmentation)\n",
    "\n",
    "cell_sets = [{\"classes\": all_classes, \"well\": \"A1\"}]\n",
    "\n",
    "calibration_points = np.array([[0,0],[0,13000],[13000,13000]])\n",
    "\n",
    "loader_config = {\n",
    "    'orientation_transform': np.array([[0, -1],[1, 0]])\n",
    "}\n",
    "\n",
    "sl = SegmentationLoader(config = loader_config, verbose=True)\n",
    "shape_collection = sl(segmentation, \n",
    "                    cell_sets, \n",
    "                    calibration_points)\n",
    "                    \n",
    "shape_collection.plot(fig_size = (50, 50), save_name='big.png')"
   ]
  },
  {
   "cell_type": "code",
   "execution_count": null,
   "metadata": {},
   "outputs": [],
   "source": [
    "shape_collection.stats()"
   ]
  }
 ],
 "metadata": {
  "interpreter": {
   "hash": "d713b97c682d581cd98bb746c153ad3da9fd159a1f2876b3caddc629c5de74d1"
  },
  "kernelspec": {
   "display_name": "Python 3.8.12 64-bit ('viper': conda)",
   "language": "python",
   "name": "python3"
  },
  "language_info": {
   "codemirror_mode": {
    "name": "ipython",
    "version": 3
   },
   "file_extension": ".py",
   "mimetype": "text/x-python",
   "name": "python",
   "nbconvert_exporter": "python",
   "pygments_lexer": "ipython3",
   "version": "3.8.12"
  },
  "orig_nbformat": 4
 },
 "nbformat": 4,
 "nbformat_minor": 2
}
