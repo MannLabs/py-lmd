{
 "cells": [
  {
   "attachments": {},
   "cell_type": "markdown",
   "metadata": {},
   "source": [
    "# Generate cutting XML from exported results from QUPath\n",
    "\n",
    "The stitched images were loaded into Qupath and specific regions annotaed by hand. calibration points were also selected and labelled with `calib1`, `calib2` and `calib3`.\n",
    "\n",
    "![QuPath manual shape annotation](./test_data/cellculture_example/qupath_annotation.png \"Qupath Manual shape annotation\")\n",
    "\n",
    "The annotated shapes were then exported to geojson file.\n",
    "\n",
    "![Geojson export](./test_data/cellculture_example/qupath_export_1.png \"GEOjson export\")\n",
    "![Geojson export](./test_data/cellculture_example/geojson_export_2.png \"GEOjson export\")\n"
   ]
  },
  {
   "attachments": {},
   "cell_type": "markdown",
   "metadata": {},
   "source": [
    "## Import libraries and define helper functions"
   ]
  },
  {
   "cell_type": "code",
   "execution_count": 11,
   "metadata": {},
   "outputs": [],
   "source": [
    "import shapely\n",
    "import geopandas\n",
    "import pandas as pd\n",
    "import numpy as np\n",
    "\n",
    "from lmd.lib import Collection"
   ]
  },
  {
   "cell_type": "code",
   "execution_count": 12,
   "metadata": {},
   "outputs": [],
   "source": [
    "def separate_points_polygons(df: geopandas.GeoDataFrame, geometry_column: str = \"geometry\") -> tuple[geopandas.GeoDataFrame, geopandas.GeoDataFrame]:\n",
    "    \"\"\"Split QuPath geopandas dataframe by shape types\"\"\"\n",
    "    points = df[geometry_column].apply(lambda geom: isinstance(geom, shapely.Point))\n",
    "    polygons = df[geometry_column].apply(lambda geom: isinstance(geom, shapely.Polygon))\n",
    "\n",
    "    return df.loc[points], df.loc[polygons]"
   ]
  },
  {
   "cell_type": "code",
   "execution_count": null,
   "metadata": {},
   "outputs": [],
   "source": [
    "def get_calib_points(list_of_calibpoint_names: str, df: geopandas.GeoDataFrame) -> np.ndarray:\n",
    "    \"\"\"Parse selected points into np.array\"\"\"\n",
    "\n",
    "    #Create list of relevant shapes\n",
    "    pointlist = []\n",
    "    for point_name in list_of_calibpoint_names:\n",
    "        pointlist.append(df.loc[df['name'] == point_name, 'geometry'].values[0])\n",
    "    \n",
    "    return np.array([[point.x, point.y] for point in pointlist])"
   ]
  },
  {
   "attachments": {},
   "cell_type": "markdown",
   "metadata": {},
   "source": [
    "## Import GEOjson regions\n",
    "\n",
    "The geojson dataset is loaded into a dataframe with the following structure:\n",
    "\n",
    "id | objectType  | classification | name | geometry |\n",
    "--- | --- | --- | --- | --- \n",
    "unique shape id  |  type of shape (e.g. annotation)  |    all annotation information from qupath    |  shape name if given      |  contains information relevant for shape\n",
    "\n",
    "The geojson should besides containing individual segemnted shapes contain 3 points annotated as calib1, calib2, calib3 that will be used as calibration points for generating the XML"
   ]
  },
  {
   "cell_type": "code",
   "execution_count": null,
   "metadata": {},
   "outputs": [
    {
     "name": "stderr",
     "output_type": "stream",
     "text": [
      "Skipping field color: unsupported OGR type: 1\n"
     ]
    },
    {
     "data": {
      "text/html": [
       "<div>\n",
       "<style scoped>\n",
       "    .dataframe tbody tr th:only-of-type {\n",
       "        vertical-align: middle;\n",
       "    }\n",
       "\n",
       "    .dataframe tbody tr th {\n",
       "        vertical-align: top;\n",
       "    }\n",
       "\n",
       "    .dataframe thead th {\n",
       "        text-align: right;\n",
       "    }\n",
       "</style>\n",
       "<table border=\"1\" class=\"dataframe\">\n",
       "  <thead>\n",
       "    <tr style=\"text-align: right;\">\n",
       "      <th></th>\n",
       "      <th>id</th>\n",
       "      <th>objectType</th>\n",
       "      <th>name</th>\n",
       "      <th>geometry</th>\n",
       "    </tr>\n",
       "  </thead>\n",
       "  <tbody>\n",
       "    <tr>\n",
       "      <th>0</th>\n",
       "      <td>9287277d-e46f-47e9-aa3f-c540b3318b5e</td>\n",
       "      <td>annotation</td>\n",
       "      <td>region2</td>\n",
       "      <td>POLYGON ((507 1524, 506.6 1539.01, 505.39 1553...</td>\n",
       "    </tr>\n",
       "    <tr>\n",
       "      <th>1</th>\n",
       "      <td>ab63cfd3-17d0-4dd3-b8e6-95172dda64de</td>\n",
       "      <td>annotation</td>\n",
       "      <td>Region1</td>\n",
       "      <td>POLYGON ((1789 990, 1730 1153, 1744 1467, 1944...</td>\n",
       "    </tr>\n",
       "    <tr>\n",
       "      <th>2</th>\n",
       "      <td>b60d2cf7-963e-42ae-8a2a-69ff289d29db</td>\n",
       "      <td>annotation</td>\n",
       "      <td>calib1</td>\n",
       "      <td>POINT (343.24 368.53)</td>\n",
       "    </tr>\n",
       "    <tr>\n",
       "      <th>3</th>\n",
       "      <td>56bdd076-ac9a-4950-97f3-b8c2268ee090</td>\n",
       "      <td>annotation</td>\n",
       "      <td>calib3</td>\n",
       "      <td>POINT (361.78 2301.51)</td>\n",
       "    </tr>\n",
       "    <tr>\n",
       "      <th>4</th>\n",
       "      <td>03d9bb6e-16b1-4cd9-9181-86da90fb98bf</td>\n",
       "      <td>annotation</td>\n",
       "      <td>calib2</td>\n",
       "      <td>POINT (1353.77 1165.83)</td>\n",
       "    </tr>\n",
       "  </tbody>\n",
       "</table>\n",
       "</div>"
      ],
      "text/plain": [
       "                                     id  objectType     name  \\\n",
       "0  9287277d-e46f-47e9-aa3f-c540b3318b5e  annotation  region2   \n",
       "1  ab63cfd3-17d0-4dd3-b8e6-95172dda64de  annotation  Region1   \n",
       "2  b60d2cf7-963e-42ae-8a2a-69ff289d29db  annotation   calib1   \n",
       "3  56bdd076-ac9a-4950-97f3-b8c2268ee090  annotation   calib3   \n",
       "4  03d9bb6e-16b1-4cd9-9181-86da90fb98bf  annotation   calib2   \n",
       "\n",
       "                                            geometry  \n",
       "0  POLYGON ((507 1524, 506.6 1539.01, 505.39 1553...  \n",
       "1  POLYGON ((1789 990, 1730 1153, 1744 1467, 1944...  \n",
       "2                              POINT (343.24 368.53)  \n",
       "3                             POINT (361.78 2301.51)  \n",
       "4                            POINT (1353.77 1165.83)  "
      ]
     },
     "execution_count": 30,
     "metadata": {},
     "output_type": "execute_result"
    }
   ],
   "source": [
    "df = geopandas.read_file(\"test_data/cellculture_example/annotated_regions_Qupath.geojson\")\n",
    "df"
   ]
  },
  {
   "cell_type": "markdown",
   "metadata": {},
   "source": [
    "Annotations and calibration points (`shapely.Point` objects) and annoatations (`shapely.Polygon` objects) should be processed separately. Therefore, we will use the previously defined helper function `separate_points_polygons` to split the dataframe by shape type."
   ]
  },
  {
   "cell_type": "code",
   "execution_count": 31,
   "metadata": {},
   "outputs": [],
   "source": [
    "# Separate calibration points (shapely.Points) from annotations (shapely.Polygons)\n",
    "points, annotations = separate_points_polygons(df)"
   ]
  },
  {
   "cell_type": "markdown",
   "metadata": {},
   "source": [
    "Let's inspect the separated geodataframes"
   ]
  },
  {
   "cell_type": "code",
   "execution_count": 32,
   "metadata": {},
   "outputs": [
    {
     "data": {
      "text/html": [
       "<div>\n",
       "<style scoped>\n",
       "    .dataframe tbody tr th:only-of-type {\n",
       "        vertical-align: middle;\n",
       "    }\n",
       "\n",
       "    .dataframe tbody tr th {\n",
       "        vertical-align: top;\n",
       "    }\n",
       "\n",
       "    .dataframe thead th {\n",
       "        text-align: right;\n",
       "    }\n",
       "</style>\n",
       "<table border=\"1\" class=\"dataframe\">\n",
       "  <thead>\n",
       "    <tr style=\"text-align: right;\">\n",
       "      <th></th>\n",
       "      <th>id</th>\n",
       "      <th>objectType</th>\n",
       "      <th>name</th>\n",
       "      <th>geometry</th>\n",
       "    </tr>\n",
       "  </thead>\n",
       "  <tbody>\n",
       "    <tr>\n",
       "      <th>2</th>\n",
       "      <td>b60d2cf7-963e-42ae-8a2a-69ff289d29db</td>\n",
       "      <td>annotation</td>\n",
       "      <td>calib1</td>\n",
       "      <td>POINT (343.24 368.53)</td>\n",
       "    </tr>\n",
       "    <tr>\n",
       "      <th>3</th>\n",
       "      <td>56bdd076-ac9a-4950-97f3-b8c2268ee090</td>\n",
       "      <td>annotation</td>\n",
       "      <td>calib3</td>\n",
       "      <td>POINT (361.78 2301.51)</td>\n",
       "    </tr>\n",
       "    <tr>\n",
       "      <th>4</th>\n",
       "      <td>03d9bb6e-16b1-4cd9-9181-86da90fb98bf</td>\n",
       "      <td>annotation</td>\n",
       "      <td>calib2</td>\n",
       "      <td>POINT (1353.77 1165.83)</td>\n",
       "    </tr>\n",
       "  </tbody>\n",
       "</table>\n",
       "</div>"
      ],
      "text/plain": [
       "                                     id  objectType    name  \\\n",
       "2  b60d2cf7-963e-42ae-8a2a-69ff289d29db  annotation  calib1   \n",
       "3  56bdd076-ac9a-4950-97f3-b8c2268ee090  annotation  calib3   \n",
       "4  03d9bb6e-16b1-4cd9-9181-86da90fb98bf  annotation  calib2   \n",
       "\n",
       "                  geometry  \n",
       "2    POINT (343.24 368.53)  \n",
       "3   POINT (361.78 2301.51)  \n",
       "4  POINT (1353.77 1165.83)  "
      ]
     },
     "execution_count": 32,
     "metadata": {},
     "output_type": "execute_result"
    }
   ],
   "source": [
    "points"
   ]
  },
  {
   "cell_type": "code",
   "execution_count": 33,
   "metadata": {},
   "outputs": [
    {
     "data": {
      "text/html": [
       "<div>\n",
       "<style scoped>\n",
       "    .dataframe tbody tr th:only-of-type {\n",
       "        vertical-align: middle;\n",
       "    }\n",
       "\n",
       "    .dataframe tbody tr th {\n",
       "        vertical-align: top;\n",
       "    }\n",
       "\n",
       "    .dataframe thead th {\n",
       "        text-align: right;\n",
       "    }\n",
       "</style>\n",
       "<table border=\"1\" class=\"dataframe\">\n",
       "  <thead>\n",
       "    <tr style=\"text-align: right;\">\n",
       "      <th></th>\n",
       "      <th>id</th>\n",
       "      <th>objectType</th>\n",
       "      <th>name</th>\n",
       "      <th>geometry</th>\n",
       "    </tr>\n",
       "  </thead>\n",
       "  <tbody>\n",
       "    <tr>\n",
       "      <th>0</th>\n",
       "      <td>9287277d-e46f-47e9-aa3f-c540b3318b5e</td>\n",
       "      <td>annotation</td>\n",
       "      <td>region2</td>\n",
       "      <td>POLYGON ((507 1524, 506.6 1539.01, 505.39 1553...</td>\n",
       "    </tr>\n",
       "    <tr>\n",
       "      <th>1</th>\n",
       "      <td>ab63cfd3-17d0-4dd3-b8e6-95172dda64de</td>\n",
       "      <td>annotation</td>\n",
       "      <td>Region1</td>\n",
       "      <td>POLYGON ((1789 990, 1730 1153, 1744 1467, 1944...</td>\n",
       "    </tr>\n",
       "  </tbody>\n",
       "</table>\n",
       "</div>"
      ],
      "text/plain": [
       "                                     id  objectType     name  \\\n",
       "0  9287277d-e46f-47e9-aa3f-c540b3318b5e  annotation  region2   \n",
       "1  ab63cfd3-17d0-4dd3-b8e6-95172dda64de  annotation  Region1   \n",
       "\n",
       "                                            geometry  \n",
       "0  POLYGON ((507 1524, 506.6 1539.01, 505.39 1553...  \n",
       "1  POLYGON ((1789 990, 1730 1153, 1744 1467, 1944...  "
      ]
     },
     "execution_count": 33,
     "metadata": {},
     "output_type": "execute_result"
    }
   ],
   "source": [
    "annotations"
   ]
  },
  {
   "attachments": {},
   "cell_type": "markdown",
   "metadata": {},
   "source": [
    "## Calibration points\n",
    "\n",
    "pyLMD expects calibration points as numpy array of the shape (N, 2). We therefore need to extract the coordinates of the calibration points from the `points` geodataframe. To do so, we will use the second helper function `get_calib_points` that converts the `geometry` column of the selected points to a numpy array. Each row in the numpy array represents the coordinates of the calibration points in (x, y) format. "
   ]
  },
  {
   "cell_type": "code",
   "execution_count": null,
   "metadata": {},
   "outputs": [
    {
     "data": {
      "text/plain": [
       "array([[ 343.24,  368.53],\n",
       "       [1353.77, 1165.83],\n",
       "       [ 361.78, 2301.51]])"
      ]
     },
     "execution_count": 34,
     "metadata": {},
     "output_type": "execute_result"
    }
   ],
   "source": [
    "caliblist = get_calib_points(['calib1','calib2','calib3'], points)\n",
    "caliblist"
   ]
  },
  {
   "attachments": {},
   "cell_type": "markdown",
   "metadata": {},
   "source": [
    "## Generate shape collection\n",
    "\n",
    "We are now able to convert the annotation dataframe to a collection of shapes. To do so, we initialize an empty pylmd `Collection` with the previously defined calibration points. We will further define the flip the axes of the points with an `orientation_transform` as the image coordinates are flipped compared to the microscope coordinates (for a detailed explanation see [this tutorial](https://mannlabs.github.io/py-lmd/html/pages/segmentation_loader.html#different-coordinate-systems))"
   ]
  },
  {
   "cell_type": "code",
   "execution_count": 29,
   "metadata": {},
   "outputs": [
    {
     "name": "stdout",
     "output_type": "stream",
     "text": [
      "===== Collection Stats =====\n",
      "Number of shapes: 2\n",
      "Number of vertices: 117\n",
      "============================\n",
      "Mean vertices: 58\n",
      "Min vertices: 16\n",
      "5% percentile vertices: 20\n",
      "Median vertices: 58\n",
      "95% percentile vertices: 97\n",
      "Max vertices: 101\n"
     ]
    }
   ],
   "source": [
    "orientation_transform = np.array(\n",
    "    [\n",
    "        [1, 0], \n",
    "        [0, -1]\n",
    "    ]\n",
    ")\n",
    "\n",
    "shape_collection = Collection(\n",
    "    calibration_points=caliblist,\n",
    "    orientation_transform=orientation_transform\n",
    "    )\n",
    "\n",
    "# Load geopandas into collection class \n",
    "shape_collection.load_geopandas(annotations)\n",
    "\n",
    "shape_collection.stats()"
   ]
  },
  {
   "cell_type": "markdown",
   "metadata": {},
   "source": [
    "Let's inspect the loaded annotations and calibration points with the internal `plot` function:"
   ]
  },
  {
   "cell_type": "code",
   "execution_count": null,
   "metadata": {},
   "outputs": [
    {
     "data": {
      "image/png": "[encoded data removed]",
      "text/plain": [
       "<Figure size 500x500 with 1 Axes>"
      ]
     },
     "metadata": {},
     "output_type": "display_data"
    }
   ],
   "source": [
    "shape_collection.plot(calibration = True)"
   ]
  },
  {
   "attachments": {},
   "cell_type": "markdown",
   "metadata": {},
   "source": [
    "## Write to XML"
   ]
  },
  {
   "cell_type": "markdown",
   "metadata": {},
   "source": [
    "You can now write the selection to a Leica-compatible xml file"
   ]
  },
  {
   "cell_type": "code",
   "execution_count": null,
   "metadata": {},
   "outputs": [],
   "source": [
    "shape_collection.save(\"./test_data/cellculture_example/shapes_2.xml\")"
   ]
  }
 ],
 "metadata": {
  "kernelspec": {
   "display_name": "pylmd",
   "language": "python",
   "name": "python3"
  },
  "language_info": {
   "codemirror_mode": {
    "name": "ipython",
    "version": 3
   },
   "file_extension": ".py",
   "mimetype": "text/x-python",
   "name": "python",
   "nbconvert_exporter": "python",
   "pygments_lexer": "ipython3",
   "version": "3.11.11"
  },
  "orig_nbformat": 4
 },
 "nbformat": 4,
 "nbformat_minor": 2
}
